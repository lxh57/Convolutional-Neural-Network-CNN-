{
 "cells": [
  {
   "metadata": {},
   "cell_type": "markdown",
   "source": [
    "![image1.png](image1.png)\n",
    "![image.png](image.png)"
   ]
  },
  {
   "cell_type": "code",
   "metadata": {
    "ExecuteTime": {
     "end_time": "2025-05-16T00:38:50.170528Z",
     "start_time": "2025-05-16T00:38:31.699466Z"
    }
   },
   "source": [
    "import pandas as pd\n",
    "import numpy as np\n",
    "import os\n",
    "import matplotlib.pyplot as plt\n",
    "\n",
    "from sklearn.model_selection import train_test_split\n",
    "\n",
    "from keras.models import Sequential \n",
    "from keras.optimizers import Adam\n",
    "from keras.callbacks import ModelCheckpoint\n",
    "from keras.layers import Lambda, Conv2D, Dropout, Dense, Flatten\n",
    "from keras.regularizers import l2\n",
    "from utils import INPUT_SHAPE, batch_generator"
   ],
   "outputs": [],
   "execution_count": 1
  },
  {
   "cell_type": "code",
   "metadata": {
    "ExecuteTime": {
     "end_time": "2025-05-16T01:15:54.615114Z",
     "start_time": "2025-05-16T01:15:53.899531Z"
    }
   },
   "source": [
    "# Thư mục để dữ liệu\n",
    "data_dir = 'dataset'\n",
    "# Đọc file driving_log.csv với các cột tương ứng\n",
    "data_df = pd.read_csv(os.path.join(os.getcwd(), data_dir, 'driving_log.csv'), names=['center', 'left', 'right', 'steering', 'throttle', 'reverse', 'speed'])\n",
    "\n",
    "# Lấy đường dẫn đến ảnh ở camera giữa, trái, phải\n",
    "X = data_df[['center', 'left', 'right']].values\n",
    "# Lấy góc lái của ô tô\n",
    "y = data_df['steering'].values\n",
    "\n",
    "# Vẽ histogram dữ liệu\n",
    "plt.hist(y)"
   ],
   "outputs": [
    {
     "data": {
      "text/plain": [
       "(array([5.000e+00, 1.200e+01, 1.090e+02, 7.430e+02, 2.118e+03, 6.894e+03,\n",
       "        1.470e+02, 6.300e+01, 2.400e+01, 6.000e+00]),\n",
       " array([-1. , -0.8, -0.6, -0.4, -0.2,  0. ,  0.2,  0.4,  0.6,  0.8,  1. ]),\n",
       " <BarContainer object of 10 artists>)"
      ]
     },
     "execution_count": 2,
     "metadata": {},
     "output_type": "execute_result"
    },
    {
     "data": {
      "text/plain": [
       "<Figure size 640x480 with 1 Axes>"
      ],
      "image/png": "[encoded data removed]"
     },
     "metadata": {},
     "output_type": "display_data"
    }
   ],
   "execution_count": 2
  },
  {
   "cell_type": "markdown",
   "metadata": {},
   "source": [
    "Do quá nhiều dữ liệu với góc lái ở 0 tức là để ô tô đi thẳng, nên ta sẽ loại bỏ bớt đi để tránh việc model có xu hướng dự đoán góc lái thiên về 0."
   ]
  },
  {
   "cell_type": "code",
   "metadata": {
    "ExecuteTime": {
     "end_time": "2025-05-16T01:16:51.146294Z",
     "start_time": "2025-05-16T01:16:50.717361Z"
    }
   },
   "source": [
    "# Loại bỏ và chỉ lấy 1000 dữ liệu có góc lái ở 0\n",
    "pos_zero = np.array(np.where(y==0)).reshape(-1, 1)\n",
    "pos_none_zero = np.array(np.where(y!=0)).reshape(-1, 1)\n",
    "np.random.shuffle(pos_zero)\n",
    "pos_zero = pos_zero[:1000]\n",
    "\n",
    "pos_combined = np.vstack((pos_zero, pos_none_zero))\n",
    "pos_combined = list(pos_combined)\n",
    "\n",
    "y = y[pos_combined].reshape(len(pos_combined))\n",
    "X = X[pos_combined, :].reshape((len(pos_combined), 3))\n",
    "\n",
    "# After process\n",
    "plt.hist(y)"
   ],
   "outputs": [
    {
     "data": {
      "text/plain": [
       "(array([   5.,   12.,  109.,  743., 2118., 1410.,  147.,   63.,   24.,\n",
       "           6.]),\n",
       " array([-1. , -0.8, -0.6, -0.4, -0.2,  0. ,  0.2,  0.4,  0.6,  0.8,  1. ]),\n",
       " <BarContainer object of 10 artists>)"
      ]
     },
     "execution_count": 3,
     "metadata": {},
     "output_type": "execute_result"
    },
    {
     "data": {
      "text/plain": [
       "<Figure size 640x480 with 1 Axes>"
      ],
      "image/png": "[encoded data removed]"
     },
     "metadata": {},
     "output_type": "display_data"
    }
   ],
   "execution_count": 3
  },
  {
   "cell_type": "markdown",
   "metadata": {},
   "source": [
    "Ta vẫn để giá trị góc lái ở 0 là nhiều nhất vì có thể phần nhiều thời gian của ô tô là đi thẳng thật. Việc histogram lệch bên trái không quá quan trọng vì ta dùng flip ảnh."
   ]
  },
  {
   "cell_type": "code",
   "metadata": {
    "ExecuteTime": {
     "end_time": "2025-05-16T01:17:44.412556Z",
     "start_time": "2025-05-16T01:17:44.395088Z"
    }
   },
   "source": [
    "# Chia ra traing set và validation set\n",
    "X_train, X_valid, y_train, y_valid = train_test_split(X, y, test_size=0.2, random_state=0)"
   ],
   "outputs": [],
   "execution_count": 4
  },
  {
   "cell_type": "code",
   "metadata": {
    "ExecuteTime": {
     "end_time": "2025-05-16T01:23:07.156980Z",
     "start_time": "2025-05-16T01:23:05.410091Z"
    }
   },
   "source": [
    "# Xây dựng model\n",
    "model = Sequential()\n",
    "model.add(Lambda(lambda x: x / 127.5 - 1.0, input_shape=INPUT_SHAPE))\n",
    "model.add(Conv2D(24, (5, 5), activation='elu', strides=(2, 2)))\n",
    "model.add(Conv2D(36, (5, 5), activation='elu', strides=(2, 2)))\n",
    "model.add(Conv2D(48, (5, 5), activation='elu', strides=(2, 2)))\n",
    "model.add(Conv2D(64, (3, 3), activation='elu'))\n",
    "model.add(Conv2D(64, (3, 3), activation='elu'))\n",
    "model.add(Dropout(0.5))\n",
    "model.add(Flatten())\n",
    "model.add(Dense(100, activation='elu'))\n",
    "model.add(Dropout(0.5))\n",
    "model.add(Dense(50, activation='elu'))\n",
    "model.add(Dense(10, activation='elu'))\n",
    "model.add(Dense(1))\n",
    "model.summary()"
   ],
   "outputs": [
    {
     "name": "stdout",
     "output_type": "stream",
     "text": [
      "Model: \"sequential_2\"\n",
      "_________________________________________________________________\n",
      " Layer (type)                Output Shape              Param #   \n",
      "=================================================================\n",
      " lambda_2 (Lambda)           (None, 66, 200, 3)        0         \n",
      "                                                                 \n",
      " conv2d (Conv2D)             (None, 31, 98, 24)        1824      \n",
      "                                                                 \n",
      " conv2d_1 (Conv2D)           (None, 14, 47, 36)        21636     \n",
      "                                                                 \n",
      " conv2d_2 (Conv2D)           (None, 5, 22, 48)         43248     \n",
      "                                                                 \n",
      " conv2d_3 (Conv2D)           (None, 3, 20, 64)         27712     \n",
      "                                                                 \n",
      " conv2d_4 (Conv2D)           (None, 1, 18, 64)         36928     \n",
      "                                                                 \n",
      " dropout (Dropout)           (None, 1, 18, 64)         0         \n",
      "                                                                 \n",
      " flatten (Flatten)           (None, 1152)              0         \n",
      "                                                                 \n",
      " dense (Dense)               (None, 100)               115300    \n",
      "                                                                 \n",
      " dropout_1 (Dropout)         (None, 100)               0         \n",
      "                                                                 \n",
      " dense_1 (Dense)             (None, 50)                5050      \n",
      "                                                                 \n",
      " dense_2 (Dense)             (None, 10)                510       \n",
      "                                                                 \n",
      " dense_3 (Dense)             (None, 1)                 11        \n",
      "                                                                 \n",
      "=================================================================\n",
      "Total params: 252219 (985.23 KB)\n",
      "Trainable params: 252219 (985.23 KB)\n",
      "Non-trainable params: 0 (0.00 Byte)\n",
      "_________________________________________________________________\n"
     ]
    }
   ],
   "execution_count": 7
  },
  {
   "cell_type": "code",
   "metadata": {
    "ExecuteTime": {
     "end_time": "2025-05-16T02:13:11.536992Z",
     "start_time": "2025-05-16T01:32:54.238916Z"
    }
   },
   "source": [
    "nb_epoch = 10\n",
    "samples_per_epoch = 1000\n",
    "batch_size = 32\n",
    "save_best_only = True\n",
    "learning_rate = 1e-4\n",
    "\n",
    "# Checkpoint này để nói cho model lưu lại model nếu validation loss thấp nhất\n",
    "checkpoint = ModelCheckpoint('models/model-{epoch:03d}.h5',\n",
    "                                 monitor='val_loss',\n",
    "                                 verbose=0,\n",
    "                                 save_best_only=save_best_only,\n",
    "                                 mode='auto')\n",
    "\n",
    "# Dùng mean_squrared_error làm loss function\n",
    "model.compile(loss='mean_squared_error', optimizer=Adam(learning_rate=learning_rate))\n",
    "\n",
    "# Train model\n",
    "H = model.fit(batch_generator(data_dir, X_train, y_train, batch_size, True),\n",
    "                    steps_per_epoch = samples_per_epoch,\n",
    "                    epochs = nb_epoch,\n",
    "                    validation_data=batch_generator(data_dir, X_valid, y_valid, batch_size, False),\n",
    "                    validation_steps=len(X_valid),\n",
    "                    callbacks=[checkpoint],\n",
    "                    verbose=1)"
   ],
   "outputs": [
    {
     "name": "stdout",
     "output_type": "stream",
     "text": [
      "Epoch 1/10\n",
      "1000/1000 [==============================] - 263s 258ms/step - loss: 0.0537 - val_loss: 0.0202\n",
      "Epoch 2/10\n"
     ]
    },
    {
     "name": "stderr",
     "output_type": "stream",
     "text": [
      "C:\\Users\\Administrator\\AppData\\Local\\Programs\\Python\\Python311\\Lib\\site-packages\\keras\\src\\engine\\training.py:3000: UserWarning: You are saving your model as an HDF5 file via `model.save()`. This file format is considered legacy. We recommend using instead the native Keras format, e.g. `model.save('my_model.keras')`.\n",
      "  saving_api.save_model(\n"
     ]
    },
    {
     "name": "stdout",
     "output_type": "stream",
     "text": [
      "1000/1000 [==============================] - 256s 256ms/step - loss: 0.0403 - val_loss: 0.0169\n",
      "Epoch 3/10\n",
      "1000/1000 [==============================] - 256s 256ms/step - loss: 0.0373 - val_loss: 0.0160\n",
      "Epoch 4/10\n",
      "1000/1000 [==============================] - 246s 246ms/step - loss: 0.0344 - val_loss: 0.0158\n",
      "Epoch 5/10\n",
      "1000/1000 [==============================] - 238s 238ms/step - loss: 0.0336 - val_loss: 0.0160\n",
      "Epoch 6/10\n",
      "1000/1000 [==============================] - 242s 242ms/step - loss: 0.0327 - val_loss: 0.0156\n",
      "Epoch 7/10\n",
      "1000/1000 [==============================] - 245s 245ms/step - loss: 0.0317 - val_loss: 0.0159\n",
      "Epoch 8/10\n",
      "1000/1000 [==============================] - 230s 230ms/step - loss: 0.0304 - val_loss: 0.0151\n",
      "Epoch 9/10\n",
      "1000/1000 [==============================] - 221s 222ms/step - loss: 0.0298 - val_loss: 0.0156\n",
      "Epoch 10/10\n",
      "1000/1000 [==============================] - 219s 219ms/step - loss: 0.0290 - val_loss: 0.0152\n"
     ]
    }
   ],
   "execution_count": 11
  },
  {
   "cell_type": "markdown",
   "metadata": {},
   "source": [
    "Vậy model ở epoch 8 có val_loss thấp nhất nên ta sẽ dùng model này để cho ô tô tự lái"
   ]
  }
 ],
 "metadata": {
  "kernelspec": {
   "display_name": "Python 3",
   "language": "python",
   "name": "python3"
  },
  "language_info": {
   "codemirror_mode": {
    "name": "ipython",
    "version": 3
   },
   "file_extension": ".py",
   "mimetype": "text/x-python",
   "name": "python",
   "nbconvert_exporter": "python",
   "pygments_lexer": "ipython3",
   "version": "3.6.5"
  },
  "widgets": {
   "state": {},
   "version": "1.1.2"
  }
 },
 "nbformat": 4,
 "nbformat_minor": 2
}
