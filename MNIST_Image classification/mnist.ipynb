{
 "nbformat": 4,
 "nbformat_minor": 0,
 "metadata": {
  "colab": {
   "name": "mnist.ipynb",
   "version": "0.3.2",
   "provenance": [],
   "collapsed_sections": []
  },
  "kernelspec": {
   "name": "python3",
   "display_name": "Python 3"
  },
  "accelerator": "GPU"
 },
 "cells": [
  {
   "metadata": {},
   "cell_type": "markdown",
   "source": [
    "#### Vì input của model là ảnh nên nghĩ ngay đến convolutional neural network (CNN).\n",
    "Mô hình chung bài toán CNN: Input image -> Convolutional layer (Conv) + Pooling layer (Pool) -> Fully connected layer (FC) -> Output.\n",
    "![image.png](image.png)"
   ]
  },
  {
   "metadata": {
    "id": "hIArylcR3KOZ",
    "colab_type": "code",
    "outputId": "ee3b6b52-83f5-4273-a586-c95d5981a10b",
    "colab": {
     "base_uri": "https://localhost:8080/",
     "height": 34
    },
    "ExecuteTime": {
     "end_time": "2025-05-15T14:58:46.100799Z",
     "start_time": "2025-05-15T14:58:39.682769Z"
    }
   },
   "cell_type": "code",
   "source": [
    "# 1. Thêm các thư viện cần thiết\n",
    "import numpy as np\n",
    "import matplotlib.pyplot as plt\n",
    "from keras.models import Sequential\n",
    "from keras.layers import Dense, Dropout, Activation, Flatten\n",
    "from keras.layers import Conv2D, MaxPooling2D\n",
    "from keras.utils import to_categorical\n",
    "from keras.datasets import mnist"
   ],
   "outputs": [],
   "execution_count": 1
  },
  {
   "metadata": {
    "id": "MZMLgpcY3b7G",
    "colab_type": "text"
   },
   "cell_type": "markdown",
   "source": "### Load dữ liệu từ MNIST dataset, bao gồm 60.000 training set và 10.000 test set. Sau đó chia bộ traning set thành 2: 50.000 cho training set và 10.000 dữ liệu cho validation set."
  },
  {
   "metadata": {
    "id": "IYP0FcDeRnJO",
    "colab_type": "code",
    "outputId": "c907c963-c9ae-4215-87c5-4cf1b114f645",
    "colab": {
     "base_uri": "https://localhost:8080/",
     "height": 34
    },
    "ExecuteTime": {
     "end_time": "2025-05-15T14:59:46.096242Z",
     "start_time": "2025-05-15T14:59:37.668663Z"
    }
   },
   "cell_type": "code",
   "source": [
    "# 2. Load dữ liệu MNIST\n",
    "(X_train, y_train), (X_test, y_test) = mnist.load_data()\n",
    "X_val, y_val = X_train[50000:60000,:], y_train[50000:60000]\n",
    "X_train, y_train = X_train[:50000,:], y_train[:50000]\n",
    "print(X_train.shape)"
   ],
   "outputs": [
    {
     "name": "stdout",
     "output_type": "stream",
     "text": [
      "Downloading data from https://storage.googleapis.com/tensorflow/tf-keras-datasets/mnist.npz\n",
      "11490434/11490434 [==============================] - 8s 1us/step\n",
      "(50000, 28, 28)\n"
     ]
    }
   ],
   "execution_count": 2
  },
  {
   "metadata": {
    "id": "jIEIibrB4LDb",
    "colab_type": "text"
   },
   "cell_type": "markdown",
   "source": [
    "Dữ liệu input cho mô hình convolutional neural network là 1 tensor 4 chiều (N, W, H, D), trong bài này là ảnh xám nên W = H = 28, D = 1, N là số lượng ảnh cho mỗi lần training. Do dữ liệu ảnh ở trên có kích thước là (N, 28, 28) tức là (N, W, H) nên rần reshape lại thành kích thước N * 28 * 28 * 1 để giống kích thước mà keras yêu cầu."
   ]
  },
  {
   "metadata": {
    "id": "cfFUzBFcRot6",
    "colab_type": "code",
    "colab": {},
    "ExecuteTime": {
     "end_time": "2025-05-15T15:03:02.225373Z",
     "start_time": "2025-05-15T15:03:02.209135Z"
    }
   },
   "cell_type": "code",
   "source": [
    "# 3. Reshape lại dữ liệu cho đúng kích thước mà keras yêu cầu\n",
    "X_train = X_train.reshape(X_train.shape[0], 28, 28, 1)\n",
    "X_val = X_val.reshape(X_val.shape[0], 28, 28, 1)\n",
    "X_test = X_test.reshape(X_test.shape[0], 28, 28, 1)"
   ],
   "outputs": [],
   "execution_count": 3
  },
  {
   "metadata": {
    "id": "FifpZK_b7KvJ",
    "colab_type": "text"
   },
   "cell_type": "markdown",
   "source": [
    "Bước này chuyển đổi one-hot encoding label Y của ảnh ví dụ số 5 thành vector [0, 0, 0, 0, 0, 1, 0, 0, 0, 0]"
   ]
  },
  {
   "metadata": {
    "id": "OHwO1pw6RsA9",
    "colab_type": "code",
    "outputId": "5f9165db-c4ba-4778-aca2-ac43a1e75794",
    "colab": {
     "base_uri": "https://localhost:8080/",
     "height": 50
    },
    "ExecuteTime": {
     "end_time": "2025-05-15T15:04:00.632499Z",
     "start_time": "2025-05-15T15:04:00.615590Z"
    }
   },
   "cell_type": "code",
   "source": [
    "# 4. One hot encoding label (Y)\n",
    "Y_train = to_categorical(y_train, 10)\n",
    "Y_val = to_categorical(y_val, 10)\n",
    "Y_test = to_categorical(y_test, 10)\n",
    "print('Dữ liệu y ban đầu ', y_train[0])\n",
    "print('Dữ liệu y sau one-hot encoding ',Y_train[0])"
   ],
   "outputs": [
    {
     "name": "stdout",
     "output_type": "stream",
     "text": [
      "Dữ liệu y ban đầu  5\n",
      "Dữ liệu y sau one-hot encoding  [0. 0. 0. 0. 0. 1. 0. 0. 0. 0.]\n"
     ]
    }
   ],
   "execution_count": 4
  },
  {
   "metadata": {
    "id": "LuoSHJ1m7uUQ",
    "colab_type": "text"
   },
   "cell_type": "markdown",
   "source": [
    "Bước này định nghĩa model:\n",
    "1. Model = Sequential() để nói cho keras là ta sẽ xếp các layer lên nhau để tạo model. Ví dụ input -> CONV -> POOL -> CONV -> POOL -> FLATTEN -> FC -> OUTPUT\n",
    "2.  Ở layer đầu tiên cần chỉ rõ input_shape của ảnh, input_shape = (W, H, D), ta dùng ảnh xám kích thước (28,28) nên input_shape = (28, 28, 1)\n",
    "3. Khi thêm Convolutional Layer ta cần chỉ rõ các tham số: K (số lượng layer), kernel size (W, H), hàm activation sử dụng. cấu trúc: model.add(Conv2D(K, (W, H), activation='tên_hàm_activation'))\n",
    "4. Khi thêm Maxpooling Layer cần chỉ rõ size của kernel, model.add(MaxPooling2D(pool_size=(W, H)))\n",
    "5. Bước Flatten chuyển từ tensor sang vector chỉ cần thêm flatten layer.\n",
    "6. Để thêm Fully Connected Layer (FC) cần chỉ rõ số lượng node trong layer và hàm activation sử dụng trong layer, cấu trúc: model.add(Dense(số_lượng_node activation='tên_hàm activation'))\n"
   ]
  },
  {
   "metadata": {
    "id": "YhER3pYeRtjC",
    "colab_type": "code",
    "outputId": "bf4676d3-d716-4300-e789-aa66b6270574",
    "colab": {
     "base_uri": "https://localhost:8080/",
     "height": 87
    },
    "ExecuteTime": {
     "end_time": "2025-05-15T15:04:59.233450Z",
     "start_time": "2025-05-15T15:04:59.087120Z"
    }
   },
   "cell_type": "code",
   "source": [
    "# 5. Định nghĩa model\n",
    "model = Sequential()\n",
    " \n",
    "# Thêm Convolutional layer với 32 kernel, kích thước kernel 3*3\n",
    "# dùng hàm sigmoid làm activation và chỉ rõ input_shape cho layer đầu tiên\n",
    "model.add(Conv2D(32, (3, 3), activation='sigmoid', input_shape=(28,28,1)))\n",
    "\n",
    "# Thêm Convolutional layer\n",
    "model.add(Conv2D(32, (3, 3), activation='sigmoid'))\n",
    "\n",
    "# Thêm Max pooling layer\n",
    "model.add(MaxPooling2D(pool_size=(2,2)))\n",
    "\n",
    "# Flatten layer chuyển từ tensor sang vector\n",
    "model.add(Flatten())\n",
    "\n",
    "# Thêm Fully Connected layer với 128 nodes và dùng hàm sigmoid\n",
    "model.add(Dense(128, activation='sigmoid'))\n",
    "\n",
    "# Output layer với 10 node và dùng softmax function để chuyển sang xác xuất.\n",
    "model.add(Dense(10, activation='softmax'))"
   ],
   "outputs": [],
   "execution_count": 5
  },
  {
   "metadata": {
    "id": "T37UmXrzRvfT",
    "colab_type": "code",
    "colab": {},
    "ExecuteTime": {
     "end_time": "2025-05-15T15:06:02.645575Z",
     "start_time": "2025-05-15T15:06:02.613818Z"
    }
   },
   "cell_type": "code",
   "source": [
    "# 6. Compile model, chỉ rõ hàm loss_function nào được sử dụng, phương thức nào\n",
    "# dùng để tối ưu hàm loss function.\n",
    "model.compile(loss='categorical_crossentropy',\n",
    "              optimizer='adam',\n",
    "              metrics=['accuracy'])"
   ],
   "outputs": [],
   "execution_count": 6
  },
  {
   "metadata": {
    "id": "u8oF7cHeRwoM",
    "colab_type": "code",
    "outputId": "7db6801e-cd87-4330-9b93-3513b87b55e3",
    "colab": {
     "base_uri": "https://localhost:8080/",
     "height": 440
    },
    "ExecuteTime": {
     "end_time": "2025-05-15T15:15:09.844904Z",
     "start_time": "2025-05-15T15:07:33.230354Z"
    }
   },
   "cell_type": "code",
   "source": [
    "# 7. Thực hiện train model với data\n",
    "H = model.fit(X_train, Y_train, validation_data=(X_val, Y_val),\n",
    "          batch_size=32, epochs=10, verbose=1)"
   ],
   "outputs": [
    {
     "name": "stdout",
     "output_type": "stream",
     "text": [
      "Epoch 1/10\n",
      "1563/1563 [==============================] - 46s 29ms/step - loss: 0.2743 - accuracy: 0.9206 - val_loss: 0.0695 - val_accuracy: 0.9817\n",
      "Epoch 2/10\n",
      "1563/1563 [==============================] - 44s 28ms/step - loss: 0.0583 - accuracy: 0.9831 - val_loss: 0.0608 - val_accuracy: 0.9816\n",
      "Epoch 3/10\n",
      "1563/1563 [==============================] - 44s 28ms/step - loss: 0.0360 - accuracy: 0.9898 - val_loss: 0.0489 - val_accuracy: 0.9845\n",
      "Epoch 4/10\n",
      "1563/1563 [==============================] - 46s 29ms/step - loss: 0.0244 - accuracy: 0.9929 - val_loss: 0.0410 - val_accuracy: 0.9873\n",
      "Epoch 5/10\n",
      "1563/1563 [==============================] - 46s 29ms/step - loss: 0.0162 - accuracy: 0.9952 - val_loss: 0.0427 - val_accuracy: 0.9870\n",
      "Epoch 6/10\n",
      "1563/1563 [==============================] - 47s 30ms/step - loss: 0.0101 - accuracy: 0.9976 - val_loss: 0.0407 - val_accuracy: 0.9878\n",
      "Epoch 7/10\n",
      "1563/1563 [==============================] - 47s 30ms/step - loss: 0.0081 - accuracy: 0.9979 - val_loss: 0.0460 - val_accuracy: 0.9877\n",
      "Epoch 8/10\n",
      "1563/1563 [==============================] - 45s 29ms/step - loss: 0.0057 - accuracy: 0.9988 - val_loss: 0.0450 - val_accuracy: 0.9874\n",
      "Epoch 9/10\n",
      "1563/1563 [==============================] - 43s 28ms/step - loss: 0.0029 - accuracy: 0.9994 - val_loss: 0.0434 - val_accuracy: 0.9889\n",
      "Epoch 10/10\n",
      "1563/1563 [==============================] - 47s 30ms/step - loss: 0.0043 - accuracy: 0.9990 - val_loss: 0.0407 - val_accuracy: 0.9894\n"
     ]
    }
   ],
   "execution_count": 7
  },
  {
   "metadata": {
    "id": "NkITk_WEYc2R",
    "colab_type": "code",
    "outputId": "efa7428c-1001-4904-af44-35a26a9f047d",
    "colab": {
     "base_uri": "https://localhost:8080/",
     "height": 393
    },
    "ExecuteTime": {
     "end_time": "2025-05-15T15:17:24.759316Z",
     "start_time": "2025-05-15T15:17:24.528484Z"
    }
   },
   "cell_type": "code",
   "source": [
    "# 8. Vẽ đồ thị loss, accuracy của traning set và validation set\n",
    "fig = plt.figure()\n",
    "numOfEpoch = 10\n",
    "plt.plot(np.arange(0, numOfEpoch), H.history['loss'], label='training loss')\n",
    "plt.plot(np.arange(0, numOfEpoch), H.history['val_loss'], label='validation loss')\n",
    "plt.plot(np.arange(0, numOfEpoch), H.history['accuracy'], label='accuracy')\n",
    "plt.plot(np.arange(0, numOfEpoch), H.history['val_accuracy'], label='validation accuracy')\n",
    "plt.title('Accuracy and Loss')\n",
    "plt.xlabel('Epoch')\n",
    "plt.ylabel('Loss|Accuracy')\n",
    "plt.legend()"
   ],
   "outputs": [
    {
     "data": {
      "text/plain": [
       "<matplotlib.legend.Legend at 0x183ca290650>"
      ]
     },
     "execution_count": 9,
     "metadata": {},
     "output_type": "execute_result"
    },
    {
     "data": {
      "text/plain": [
       "<Figure size 640x480 with 1 Axes>"
      ],
      "image/png": "[encoded data removed]"
     },
     "metadata": {},
     "output_type": "display_data"
    }
   ],
   "execution_count": 9
  },
  {
   "metadata": {
    "id": "mvRM2M6NRy9Q",
    "colab_type": "code",
    "outputId": "a01fbf3b-976f-476b-feae-f7e67bdfd634",
    "colab": {
     "base_uri": "https://localhost:8080/",
     "height": 34
    },
    "ExecuteTime": {
     "end_time": "2025-05-15T15:17:48.923448Z",
     "start_time": "2025-05-15T15:17:46.905484Z"
    }
   },
   "cell_type": "code",
   "source": [
    "# 9. Đánh giá model với dữ liệu test set\n",
    "score = model.evaluate(X_test, Y_test, verbose=0)\n",
    "print(score)"
   ],
   "outputs": [
    {
     "name": "stdout",
     "output_type": "stream",
     "text": [
      "[0.03445597365498543, 0.9894999861717224]\n"
     ]
    }
   ],
   "execution_count": 10
  },
  {
   "metadata": {
    "id": "lgAVysTefR5Q",
    "colab_type": "text"
   },
   "cell_type": "markdown",
   "source": "Ta sẽ dùng kết quả đánh giá của mode với test set để làm kết quả cuối cùng của model. Tức model của chúng ta dữ đoán chữ số có độ chính xác 98.94% với MNIST dataset. Nghĩa là dự đoán khoảng 100 ảnh thì sai 1 ảnh."
  },
  {
   "metadata": {
    "id": "y25mu5OTYG4d",
    "colab_type": "code",
    "outputId": "8214104c-a382-47a2-c911-5c496f7bc1b9",
    "colab": {
     "base_uri": "https://localhost:8080/",
     "height": 364
    },
    "ExecuteTime": {
     "end_time": "2025-05-15T15:18:41.834526Z",
     "start_time": "2025-05-15T15:18:41.546941Z"
    }
   },
   "cell_type": "code",
   "source": [
    "# 10. Dự đoán ảnh\n",
    "plt.imshow(X_test[0].reshape(28,28), cmap='gray')\n",
    "\n",
    "y_predict = model.predict(X_test[0].reshape(1,28,28,1))\n",
    "print('Giá trị dự đoán: ', np.argmax(y_predict))"
   ],
   "outputs": [
    {
     "name": "stdout",
     "output_type": "stream",
     "text": [
      "1/1 [==============================] - 0s 94ms/step\n",
      "Giá trị dự đoán:  7\n"
     ]
    },
    {
     "data": {
      "text/plain": [
       "<Figure size 640x480 with 1 Axes>"
      ],
      "image/png": "[encoded data removed]"
     },
     "metadata": {},
     "output_type": "display_data"
    }
   ],
   "execution_count": 11
  },
  {
   "metadata": {
    "ExecuteTime": {
     "end_time": "2025-05-15T15:19:08.648274Z",
     "start_time": "2025-05-15T15:19:08.458942Z"
    }
   },
   "cell_type": "code",
   "source": [
    "plt.imshow(X_test[1].reshape(28,28), cmap='gray')\n",
    "\n",
    "y_predict = model.predict(X_test[1].reshape(1,28,28,1))\n",
    "print('Giá trị dự đoán: ', np.argmax(y_predict))"
   ],
   "outputs": [
    {
     "name": "stdout",
     "output_type": "stream",
     "text": [
      "1/1 [==============================] - 0s 35ms/step\n",
      "Giá trị dự đoán:  2\n"
     ]
    },
    {
     "data": {
      "text/plain": [
       "<Figure size 640x480 with 1 Axes>"
      ],
      "image/png": "[encoded data removed]"
     },
     "metadata": {},
     "output_type": "display_data"
    }
   ],
   "execution_count": 12
  },
  {
   "metadata": {
    "ExecuteTime": {
     "end_time": "2025-05-15T15:34:12.984184Z",
     "start_time": "2025-05-15T15:34:12.784391Z"
    }
   },
   "cell_type": "code",
   "source": [
    "plt.imshow(X_test[2].reshape(28,28), cmap='gray')\n",
    "\n",
    "y_predict = model.predict(X_test[2].reshape(1,28,28,1))\n",
    "print('Giá trị dự đoán: ', np.argmax(y_predict))"
   ],
   "outputs": [
    {
     "name": "stdout",
     "output_type": "stream",
     "text": [
      "1/1 [==============================] - 0s 31ms/step\n",
      "Giá trị dự đoán:  1\n"
     ]
    },
    {
     "data": {
      "text/plain": [
       "<Figure size 640x480 with 1 Axes>"
      ],
      "image/png": "[encoded data removed]"
     },
     "metadata": {},
     "output_type": "display_data"
    }
   ],
   "execution_count": 13
  },
  {
   "metadata": {},
   "cell_type": "code",
   "outputs": [],
   "execution_count": null,
   "source": ""
  }
 ]
}
